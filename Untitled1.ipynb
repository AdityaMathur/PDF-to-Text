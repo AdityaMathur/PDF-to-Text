{
 "cells": [
  {
   "cell_type": "code",
   "execution_count": 57,
   "id": "41112833",
   "metadata": {},
   "outputs": [],
   "source": [
    "import pdf2image\n",
    "#Wrapper around the poppler library\n",
    "#Poppler library is a binding to poppler cpp library\n",
    "#PDF reader\n",
    "#PIL images\n",
    "import os, sys\n",
    "#OS and SYS libraries are used because we need access to system folders for creating and deleting files\n",
    "try:\n",
    "    from PIL import Image\n",
    "except ImportError:\n",
    "    import Image\n",
    "#optical charachter detection\n",
    "import pytesseract"
   ]
  },
  {
   "cell_type": "code",
   "execution_count": 58,
   "id": "e854f511",
   "metadata": {},
   "outputs": [],
   "source": [
    "# path of the folder which has PDFs\n",
    "PATH = '/Users/adityamathur/AI Watson/PDF/'\n",
    "\n",
    "#Iterator for multiple PDF file extraction\n",
    "i = 1"
   ]
  },
  {
   "cell_type": "code",
   "execution_count": 59,
   "id": "54490d8f",
   "metadata": {},
   "outputs": [],
   "source": [
    "#The below function when called will delete the ppm files created during the process\n",
    "def delete_ppms():\n",
    "  for file in os.listdir(PATH):\n",
    "    if '.ppm' in file or '.DS_Store' in file:\n",
    "      try:\n",
    "          os.remove(PATH + file)\n",
    "      except FileNotFoundError:\n",
    "          pass"
   ]
  },
  {
   "cell_type": "code",
   "execution_count": 60,
   "id": "018fa823",
   "metadata": {},
   "outputs": [
    {
     "name": "stdout",
     "output_type": "stream",
     "text": [
      "['sample-pdf-file.pdf', 'UI assignment.pdf', 'exercise_WKS.pdf']\n"
     ]
    }
   ],
   "source": [
    "# the below lists are a list of pdf files which are input and text files which are output\n",
    "pdf_files = []\n",
    "docx_files = []\n",
    "\n",
    "# append document names into the lists by their extension type\n",
    "for f in os.listdir(PATH):\n",
    "  full_name = os.path.join(PATH, f) \n",
    "  if os.path.isfile(full_name):\n",
    "    name = os.path.basename(f)\n",
    "    filename, ext = os.path.splitext(name)\n",
    "    #if file is of .pdf type\n",
    "    if ext == '.pdf':\n",
    "        #add name to list of pdf files and use it as input in next method\n",
    "      pdf_files.append(name)\n",
    "    elif ext == ('.docx'):\n",
    "      docx_files.append(name)\n",
    "print(pdf_files)"
   ]
  },
  {
   "cell_type": "code",
   "execution_count": 61,
   "id": "56fa2bc7",
   "metadata": {},
   "outputs": [],
   "source": [
    "#The below method will take a file as input and its iterator for naming the output file\n",
    "def pdf_extract(file, i):\n",
    "  print(\"extracting from file:\", file)# this line will help tellng user that which file is being worked upon\n",
    "  delete_ppms()\n",
    "  images = pdf2image.convert_from_path(PATH + file, output_folder=PATH) #Convert pdf to pil image\n",
    "  j = 0\n",
    "  for file in sorted (os.listdir(PATH)):#for every page in the pdf this function will convert it to image\n",
    "      if '.ppm' in file and 'image' not in file:\n",
    "        os.rename(PATH + file, PATH + 'image' + str(i) + '-' + str(j) + '.ppm')\n",
    "        j += 1\n",
    "  j = 0\n",
    "  f = open(PATH +'result{}.txt'.format(i), 'w')\n",
    "  files = [f for f in os.listdir(PATH) if '.ppm' in f]\n",
    "\n",
    "  for file in sorted(files, key=lambda x: int(x[x.index('-') + 1: x.index('.')])):\n",
    "      temp = pytesseract.image_to_string(Image.open(PATH + file)) #this will convert the image to text and write it\n",
    "      f.write(temp)#into the output file\n",
    "  f.close()# when all pages are parsed the file is closed and saved"
   ]
  },
  {
   "cell_type": "code",
   "execution_count": 62,
   "id": "dea6b764",
   "metadata": {},
   "outputs": [
    {
     "name": "stdout",
     "output_type": "stream",
     "text": [
      "extracting from file: sample-pdf-file.pdf\n",
      "extracting from file: UI assignment.pdf\n",
      "extracting from file: exercise_WKS.pdf\n"
     ]
    }
   ],
   "source": [
    "#calling the methods for all the pdf files in the folder\n",
    "for i in range(len(pdf_files)):\n",
    "  pdf_file = pdf_files[i]\n",
    "  pdf_extract(pdf_file, i)"
   ]
  },
  {
   "cell_type": "code",
   "execution_count": 63,
   "id": "06d94150",
   "metadata": {},
   "outputs": [],
   "source": [
    "#calling the method so that all ppm files created can be deleted\n",
    "delete_ppms()"
   ]
  },
  {
   "cell_type": "code",
   "execution_count": null,
   "id": "1bc39374",
   "metadata": {},
   "outputs": [],
   "source": []
  }
 ],
 "metadata": {
  "kernelspec": {
   "display_name": "Python 3",
   "language": "python",
   "name": "python3"
  },
  "language_info": {
   "codemirror_mode": {
    "name": "ipython",
    "version": 3
   },
   "file_extension": ".py",
   "mimetype": "text/x-python",
   "name": "python",
   "nbconvert_exporter": "python",
   "pygments_lexer": "ipython3",
   "version": "3.8.2"
  }
 },
 "nbformat": 4,
 "nbformat_minor": 5
}
